{
 "cells": [
  {
   "cell_type": "markdown",
   "id": "2bfc6bdc-f3a6-4fa5-937b-e40a1fcbcae9",
   "metadata": {},
   "source": [
    "# A tiny model to explain the QML principles using PennyLane\n",
    "\n",
    "_This notebook explores the creation and use of a very simple model in **PennyLane and PyTorch**_.\n",
    "\n",
    "**By:** Jacob Cybulski ([website](https://jacobcybulski.com/))<br>\n",
    "**Date:** March 26, 2025<br>\n",
    "**Updates:** September 21, 2025<br>\n",
    "**Aims:** To develop a tiny quantum model in PennyLane to explain QML principles<br/>\n",
    "**Prerequisites:** We will assume your knowledge of *quantum computing*, *machine learning* and *Python*<br>\n",
    "**License:** \n",
    "This project is licensed under the [GPL-3.0](https://www.gnu.org/licenses/gpl-3.0.txt)<br>\n",
    "**Changes:** All changes to this code must be listed at the bottom of this notebook"
   ]
  },
  {
   "cell_type": "markdown",
   "id": "5715a135-8768-4fac-9373-072ffd8039a1",
   "metadata": {},
   "source": [
    "## Libraries"
   ]
  },
  {
   "cell_type": "code",
   "execution_count": 1,
   "id": "7c92610b-6d3a-45cb-9c29-487523799255",
   "metadata": {},
   "outputs": [
    {
     "data": {
      "text/plain": [
       "['/home/jacob/miniconda3/envs/pl-42/lib/python311.zip',\n",
       " '/home/jacob/miniconda3/envs/pl-42/lib/python3.11',\n",
       " '/home/jacob/miniconda3/envs/pl-42/lib/python3.11/lib-dynload',\n",
       " '',\n",
       " '/home/jacob/miniconda3/envs/pl-42/lib/python3.11/site-packages',\n",
       " '.',\n",
       " '..']"
      ]
     },
     "execution_count": 1,
     "metadata": {},
     "output_type": "execute_result"
    }
   ],
   "source": [
    "import sys\n",
    "sys.path.append('.')\n",
    "sys.path.append('..')\n",
    "sys.path"
   ]
  },
  {
   "cell_type": "code",
   "execution_count": 2,
   "id": "e4a6dcc2-2992-43ea-9ce7-925124df72bb",
   "metadata": {},
   "outputs": [],
   "source": [
    "### General libraries\n",
    "\n",
    "import matplotlib.pyplot as plt\n",
    "from matplotlib import set_loglevel\n",
    "set_loglevel(\"warning\")\n",
    "\n",
    "import warnings\n",
    "warnings.filterwarnings(\"ignore\")\n",
    "\n",
    "%matplotlib inline"
   ]
  },
  {
   "cell_type": "code",
   "execution_count": 3,
   "id": "d7369b15-1a33-4e1c-ba8b-11dcae8d5650",
   "metadata": {},
   "outputs": [],
   "source": [
    "### Import utilities\n",
    "#   Examples of charts from this library will be presented here\n",
    "\n",
    "from utilities import *"
   ]
  },
  {
   "cell_type": "code",
   "execution_count": 4,
   "id": "5d3aaea1-2013-43a6-bc80-af7c8fd7fdb0",
   "metadata": {},
   "outputs": [],
   "source": [
    "### PennyLane and Torch\n",
    "\n",
    "import pennylane as qml\n",
    "from pennylane import numpy as np\n",
    "from pennylane import NesterovMomentumOptimizer\n",
    "from torch import nn\n",
    "from torch.autograd import Variable\n",
    "import torch"
   ]
  },
  {
   "cell_type": "markdown",
   "id": "f0fc7083-0fd0-4188-9974-e7c6cdceb48b",
   "metadata": {},
   "source": [
    "## Explore a PennyLane tiny quantum model\n",
    "\n",
    "We will first identify what quantum devices and gradient support we have, then we will show the principles of working with PennyLane, then prepare data for model training and testing, create a quantum model, and finally train it and test it."
   ]
  },
  {
   "cell_type": "markdown",
   "id": "b6273b96-e15a-449c-9174-fb3d788a03e7",
   "metadata": {},
   "source": [
    "### Define device to compute on\n",
    "*We have a variety of different types of quantum devices.*\n",
    "- **default.qubit:** used for state vector simulations\n",
    "- **lightning.qubit:** high performance qubit (written in C++)\n",
    "- **lightning.gpu:** a GPU state vector qubit simulation (NVIDIA)\n",
    "- **default.tensor:** a state vector simulator based on tensor networks\n",
    "- **qiskit.remote:** a Qiskit device accessible via *qiskit_ibm_runtime* interface\n",
    "- **default.mixed:** a mixed state simulator of Qiskit based quantum circuits\n",
    "- *And many more (over 40 different devices)*"
   ]
  },
  {
   "cell_type": "code",
   "execution_count": 5,
   "id": "7ae209f5-9368-4e64-8ed6-8c19cd20c739",
   "metadata": {},
   "outputs": [],
   "source": [
    "### Select a device for PL operation\n",
    "\n",
    "# Quantum simulator\n",
    "sim = 'default.qubit'"
   ]
  },
  {
   "cell_type": "markdown",
   "id": "9c3cb4f0-b73b-4b16-a06e-283899c407c2",
   "metadata": {},
   "source": [
    "### Show QML principles with PennyLane"
   ]
  },
  {
   "cell_type": "markdown",
   "id": "ecc30f4c-8c9a-4e63-8520-751277665c10",
   "metadata": {},
   "source": [
    "### Set up our data\n",
    "*Note that weights require gradients and inputs are just plain values.*"
   ]
  },
  {
   "cell_type": "code",
   "execution_count": 6,
   "id": "72f0c88d-bafb-433c-a335-11a1decb2408",
   "metadata": {},
   "outputs": [
    {
     "data": {
      "text/plain": [
       "tensor([2.19911486, 0.78539816], requires_grad=False)"
      ]
     },
     "execution_count": 6,
     "metadata": {},
     "output_type": "execute_result"
    }
   ],
   "source": [
    "### Test data\n",
    "#   Note that 'np' is from PennyLane, so it is automatically a tensor!\n",
    "#   However, it is always better to explicitly convert Numpy array to tensors\n",
    "\n",
    "inputs = np.array([np.pi*0.7, np.pi/4], requires_grad=False)   # Plain values\n",
    "weights = np.array([1.7, 0.5, 0.5], requires_grad=True)        # Parameters with gradients\n",
    "\n",
    "### This is our data\n",
    "inputs"
   ]
  },
  {
   "cell_type": "code",
   "execution_count": 7,
   "id": "52c6d311-0c55-40c6-9d0b-fba9fc794248",
   "metadata": {},
   "outputs": [
    {
     "data": {
      "text/plain": [
       "tensor([1.7, 0.5, 0.5], requires_grad=True)"
      ]
     },
     "execution_count": 7,
     "metadata": {},
     "output_type": "execute_result"
    }
   ],
   "source": [
    "weights"
   ]
  },
  {
   "cell_type": "markdown",
   "id": "c89c340b-c6e2-4c5e-b756-2be605a508fe",
   "metadata": {},
   "source": [
    "### Define a circuit"
   ]
  },
  {
   "cell_type": "code",
   "execution_count": 8,
   "id": "d207b660-0fba-4250-b38b-dc7df3134cb4",
   "metadata": {},
   "outputs": [],
   "source": [
    "### Simple circuit creation and execution\n",
    "dev1 = qml.device(sim, wires=2, shots=1000)\n",
    "\n",
    "@qml.qnode(dev1)\n",
    "def circuit1(inputs, weights):\n",
    "    \n",
    "    # Feature map\n",
    "    qml.RY(inputs[0], wires=0)\n",
    "    qml.RY(inputs[1], wires=1)\n",
    "    qml.Barrier()\n",
    "\n",
    "    # Ansatz\n",
    "    qml.RX(weights[0], wires=0)\n",
    "    qml.RY(weights[1], wires=1)\n",
    "    qml.CNOT(wires=[0, 1])\n",
    "    qml.RY(weights[2], wires=1)\n",
    "    qml.Barrier()\n",
    "\n",
    "    # Measurement\n",
    "    return qml.probs(wires=range(2))"
   ]
  },
  {
   "cell_type": "code",
   "execution_count": 9,
   "id": "85b71520-365e-4aaf-98e1-b7f848d127ea",
   "metadata": {},
   "outputs": [
    {
     "data": {
      "image/png": "[encoded data removed]",
      "text/plain": [
       "<Figure size 490x210 with 1 Axes>"
      ]
     },
     "metadata": {},
     "output_type": "display_data"
    }
   ],
   "source": [
    "### Plot the circuit\n",
    "draw_circuit(circuit1, scale=0.7, title='Tiny model (prob measurement)', style='pennylane')(inputs, weights)"
   ]
  },
  {
   "cell_type": "markdown",
   "id": "2e1572e0-bfbc-4858-81ef-d394b25eb9a0",
   "metadata": {},
   "source": [
    "#### Apply the circuit to some data and see the results"
   ]
  },
  {
   "cell_type": "code",
   "execution_count": 10,
   "id": "fe6d2f6d-c41e-4459-94fc-6cd92956a6e1",
   "metadata": {},
   "outputs": [
    {
     "data": {
      "text/plain": [
       "array([0.219, 0.351, 0.07 , 0.36 ])"
      ]
     },
     "execution_count": 10,
     "metadata": {},
     "output_type": "execute_result"
    }
   ],
   "source": [
    "### Run the circuit\n",
    "results1 = circuit1(inputs, weights)\n",
    "results1"
   ]
  },
  {
   "cell_type": "code",
   "execution_count": 11,
   "id": "9f3b9f26-1385-454b-bab7-b3ece40cab56",
   "metadata": {},
   "outputs": [
    {
     "data": {
      "image/png": "[encoded data removed]",
      "text/plain": [
       "<Figure size 432x288 with 1 Axes>"
      ]
     },
     "metadata": {},
     "output_type": "display_data"
    }
   ],
   "source": [
    "### Plot the results\n",
    "plot_hist(results1, figsize=(6, 4), title='Measurement Outcomes')"
   ]
  },
  {
   "cell_type": "markdown",
   "id": "1e795c7e-3022-4d27-ac76-ab99dbf64804",
   "metadata": {},
   "source": [
    "#### Explore the gradients of this circuit\n",
    "*In the following example we will see the gradients of this circuit given as a Jacobian matrix:*\n",
    "$$\n",
    "\\mathbf{J} = \n",
    "\\begin{pmatrix}\n",
    " \\frac{\\partial P_{00}}{\\partial w_0} & \\frac{\\partial P_{00}}{\\partial w_1} & \\frac{\\partial P_{00}}{\\partial w_2} \\\\\n",
    " \\frac{\\partial P_{01}}{\\partial w_0} & \\frac{\\partial P_{01}}{\\partial w_1} & \\frac{\\partial P_{01}}{\\partial w_2} \\\\\n",
    " \\frac{\\partial P_{10}}{\\partial w_0} & \\frac{\\partial P_{10}}{\\partial w_1} & \\frac{\\partial P_{10}}{\\partial w_2} \\\\\n",
    " \\frac{\\partial P_{11}}{\\partial w_0} & \\frac{\\partial P_{11}}{\\partial w_1} & \\frac{\\partial P_{11}}{\\partial w_2}\n",
    "\\end{pmatrix}\n",
    "$$\n",
    "where $P_{ij}$ is the probability of measuring the state $\\vert ij \\rangle$ and $w_k$ is the k-th weight.<br>\n",
    "Each of the terms in the Jacobian is calculated from the parameter-shift rule (let's use $P_{00}$ as an example):\n",
    "$$\n",
    "\\frac{\\partial P_{00}}{\\partial w_0} \\approx \\frac{1}{2} \\left[ P_{00}\\left(w_0 + \\frac{\\pi}{2}, w_1, w_2\\right) - P_{00}\\left(w_0 - \\frac{\\pi}{2}, w_1, w_2\\right) \\right]\n",
    "$$\n",
    "and here:\n",
    "- $\\frac{\\partial P_{00}}{\\partial w_0}$ is the partial derivative of the probability of measuring state $\\vert 00 \\rangle$ with respect to the first weight, $w_0$.\n",
    "- $P_{00}\\left(w_0 + \\frac{\\pi}{2}, \\dots\\right)$ is the estimated probability of measuring $\\vert 00 \\rangle$ after running the circuit with the first weight shifted forward by $\\pi / 2$.\n",
    "- $P_{00}\\left(w_0 - \\frac{\\pi}{2}, \\dots\\right)$ is the estimated probability of measuring $\\vert 00 \\rangle$ after running the circuit with the first weight shifted backward $\\pi / 2$.\n",
    "- Only probability $P_{00}$ and weight $w_0$ are being affected, while the remaining probabilities and weights remain unchanged.\n",
    "- THe offset $\\pi/2$ has been selected to leverage the trigonometric nature of quantum gates to arrive at a true derivative $\\frac{\\partial P_{00}}{\\partial w_0}$."
   ]
  },
  {
   "cell_type": "code",
   "execution_count": 12,
   "id": "95bd6f26-9882-43cc-acc7-1efa404ac561",
   "metadata": {},
   "outputs": [
    {
     "data": {
      "text/plain": [
       "array([[ 0.1115, -0.2625, -0.264 ],\n",
       "       [ 0.177 ,  0.2585,  0.2625],\n",
       "       [-0.032 ,  0.1595, -0.158 ],\n",
       "       [-0.2565, -0.1555,  0.1595]])"
      ]
     },
     "execution_count": 12,
     "metadata": {},
     "output_type": "execute_result"
    }
   ],
   "source": [
    "### Show the Jacobian matrix J(i, j) for the circuit weights\n",
    "qml.gradients.param_shift(circuit1)(inputs, weights)"
   ]
  },
  {
   "cell_type": "markdown",
   "id": "df6d2bfd-00f9-4389-9595-151e7aa5afc7",
   "metadata": {},
   "source": [
    "*These gradients can be used by optimisers to find the optimum weights (with respect of a data sample) for the circuit.*<br>\n",
    "__*We will later show you how to do this!*__"
   ]
  },
  {
   "cell_type": "markdown",
   "id": "3f27180f-ed1e-4e01-8627-0dfd4b3aab06",
   "metadata": {},
   "source": [
    "#### Let's run this circuit a few times\n",
    "*Observe results, why do you think we get different results each time?*"
   ]
  },
  {
   "cell_type": "code",
   "execution_count": 13,
   "id": "1feb821a-67c5-4c28-9bb5-dde6632268db",
   "metadata": {},
   "outputs": [
    {
     "data": {
      "text/plain": [
       "array([0.207, 0.325, 0.083, 0.385])"
      ]
     },
     "execution_count": 13,
     "metadata": {},
     "output_type": "execute_result"
    }
   ],
   "source": [
    "results2 = circuit1(inputs, weights)\n",
    "results2"
   ]
  },
  {
   "cell_type": "code",
   "execution_count": 14,
   "id": "df31791a-8dad-4417-b604-8996d49f9b6e",
   "metadata": {},
   "outputs": [
    {
     "data": {
      "text/plain": [
       "array([0.22 , 0.337, 0.082, 0.361])"
      ]
     },
     "execution_count": 14,
     "metadata": {},
     "output_type": "execute_result"
    }
   ],
   "source": [
    "results3 = circuit1(inputs, weights)\n",
    "results3"
   ]
  },
  {
   "cell_type": "markdown",
   "id": "c72657ce-946c-4e3c-91f1-4cea62a67826",
   "metadata": {},
   "source": [
    "#### Now let's pass multiple inputs to the circuit\n",
    "*__Warning:__ if applying the circuit to multiple inputs is confusing, just do it in a loop one input at a time.*<br> \n",
    "*Note that the result is produced in the form to support PennyLane gradient calculations.*<br>\n",
    "*However, this format is not compatible with what we are used to in other ML packages.*"
   ]
  },
  {
   "cell_type": "code",
   "execution_count": 15,
   "id": "37caddfc-73ad-4a6a-93cf-a500f47494ed",
   "metadata": {},
   "outputs": [
    {
     "data": {
      "text/plain": [
       "tensor([[2.19911486, 0.78539816],\n",
       "        [2.19911486, 0.78539816],\n",
       "        [2.19911486, 0.78539816],\n",
       "        [2.19911486, 0.78539816],\n",
       "        [2.19911486, 0.78539816]], requires_grad=False)"
      ]
     },
     "execution_count": 15,
     "metadata": {},
     "output_type": "execute_result"
    }
   ],
   "source": [
    "### Prepare a tensor of multiple inputs\n",
    "multi_inputs = np.stack([inputs, inputs, inputs, inputs, inputs])\n",
    "multi_inputs"
   ]
  },
  {
   "cell_type": "code",
   "execution_count": 16,
   "id": "87799d05-bd7c-4e46-a45a-19fbc5983315",
   "metadata": {},
   "outputs": [
    {
     "data": {
      "text/plain": [
       "array([[0.   , 0.539, 0.368, 0.093],\n",
       "       [0.192, 0.266, 0.069, 0.473]])"
      ]
     },
     "execution_count": 16,
     "metadata": {},
     "output_type": "execute_result"
    }
   ],
   "source": [
    "### Get the results\n",
    "results4 = circuit1(multi_inputs, weights)\n",
    "results4"
   ]
  },
  {
   "cell_type": "markdown",
   "id": "f023dc46-675e-47e3-8255-a2c4f6670c76",
   "metadata": {},
   "source": [
    "__*What happened here?*__<br>\n",
    "*We expect the circuit to be called $n$ times and return $n$ sets of 4 measurement outcomes each.<br>\n",
    "However, PL uses \"parameter broadcasting\", where the qnode code is run once only!<br>\n",
    "The first objective of this run is to create the circuit's abstract representation, called quantum tape.<br>\n",
    "The second objective is to create a tensor of values to be assigned to each parameter!<br>\n",
    "Each tensor must be of the same size, which is called the batch size.<br>\n",
    "Then, PL will assign values to each parameter and execute the circuit the batch size times.<br>\n",
    "So, consider what is inputs[0] and inputs[1] in the previous case, how many results will be produced?<br> \n",
    "How should the circuit be changed, to provide $n$ correct values to each input parameter?*"
   ]
  },
  {
   "cell_type": "code",
   "execution_count": 17,
   "id": "9904d427-06d7-45a5-b438-7dc58093b6b3",
   "metadata": {},
   "outputs": [],
   "source": [
    "### Another version of the circuit for batched inputs\n",
    "@qml.qnode(dev1)\n",
    "def circuit1_batched(inputs, weights):\n",
    "    # Parameter inputs is now a batched tensor of shape (n, 2)\n",
    "    \n",
    "    # Apply the first feature of all n inputs to wire 0\n",
    "    qml.RY(inputs[:, 0], wires=0)\n",
    "    \n",
    "    # Apply the second feature of all n inputs to wire 1\n",
    "    qml.RY(inputs[:, 1], wires=1)\n",
    "\n",
    "    qml.Barrier()\n",
    "\n",
    "    # Ansatz (weights are automatically broadcast to match the input batch size)\n",
    "    qml.RX(weights[0], wires=0)\n",
    "    qml.RY(weights[1], wires=1)\n",
    "    qml.CNOT(wires=[0, 1])\n",
    "    qml.RY(weights[2], wires=1)\n",
    "    qml.Barrier()\n",
    "\n",
    "    # Measurement\n",
    "    return qml.probs(wires=range(2))"
   ]
  },
  {
   "cell_type": "code",
   "execution_count": 18,
   "id": "070209ce-22e3-45eb-8e3d-9a780014a0de",
   "metadata": {},
   "outputs": [
    {
     "data": {
      "image/png": "[encoded data removed]",
      "text/plain": [
       "<Figure size 490x210 with 1 Axes>"
      ]
     },
     "metadata": {},
     "output_type": "display_data"
    }
   ],
   "source": [
    "### Plot the circuit\n",
    "draw_circuit(circuit1_batched, scale=0.7, title='Tiny \"batched\" model (prob measurement)', style='pennylane')(multi_inputs, weights)"
   ]
  },
  {
   "cell_type": "code",
   "execution_count": 19,
   "id": "35aa37b3-28d3-4921-b153-ee8418c62b0c",
   "metadata": {},
   "outputs": [
    {
     "data": {
      "text/plain": [
       "array([[0.217, 0.318, 0.073, 0.392],\n",
       "       [0.219, 0.325, 0.055, 0.401],\n",
       "       [0.232, 0.319, 0.067, 0.382],\n",
       "       [0.208, 0.335, 0.075, 0.382],\n",
       "       [0.228, 0.331, 0.063, 0.378]])"
      ]
     },
     "execution_count": 19,
     "metadata": {},
     "output_type": "execute_result"
    }
   ],
   "source": [
    "### Get the results\n",
    "results5 = circuit1_batched(multi_inputs, weights)\n",
    "results5"
   ]
  },
  {
   "cell_type": "markdown",
   "id": "6b9760dd-11fa-4af0-b537-e58e0e841902",
   "metadata": {},
   "source": [
    "__*This is now what we expected to get!*__"
   ]
  },
  {
   "cell_type": "markdown",
   "id": "6b11147c-ce84-45ca-836f-dcd2ca16b22c",
   "metadata": {},
   "source": [
    "### The same circuit but measured differently\n",
    "*Expvals are weighted averages of *eigenvalues* of an operator.*<br>\n",
    "*For a single qubit, possible measurements for $\\vert 0 \\rangle$ is $+1$ and for $\\vert 1 \\rangle$ is $-1$.*<br>\n",
    "*Depending on the circuit state, repeated measurements the result will reflect its bias.*"
   ]
  },
  {
   "cell_type": "code",
   "execution_count": 20,
   "id": "ecf2c09a-b560-4565-971f-4a9a308c4e23",
   "metadata": {},
   "outputs": [],
   "source": [
    "### Simple circuit creation and execution\n",
    "dev2 = qml.device(sim, wires=2, shots=1000)\n",
    "\n",
    "@qml.qnode(dev2)\n",
    "def circuit2(inputs, weights):\n",
    "    \n",
    "    # Feature map\n",
    "    qml.RY(inputs[0], wires=0)\n",
    "    qml.RY(inputs[1], wires=1)\n",
    "    qml.Barrier()\n",
    "\n",
    "    # Ansatz\n",
    "    qml.RX(weights[0], wires=0)\n",
    "    qml.RY(weights[1], wires=1)\n",
    "    qml.CNOT(wires=[0, 1])\n",
    "    qml.RY(weights[2], wires=1)\n",
    "    qml.Barrier()\n",
    "\n",
    "    # Measurement\n",
    "    return [qml.expval(qml.PauliZ(m)) for m in range(2)]"
   ]
  },
  {
   "cell_type": "code",
   "execution_count": 21,
   "id": "d17a3403-8740-4b72-8ae0-924cf312c3f6",
   "metadata": {},
   "outputs": [
    {
     "data": {
      "image/png": "[encoded data removed]",
      "text/plain": [
       "<Figure size 490x210 with 1 Axes>"
      ]
     },
     "metadata": {},
     "output_type": "display_data"
    }
   ],
   "source": [
    "### Plot the circuit\n",
    "draw_circuit(circuit2, scale=0.7, title='Tiny model (expval measurement)', style='pennylane')(inputs, weights)"
   ]
  },
  {
   "cell_type": "markdown",
   "id": "eb34d17c-5757-4d6e-b327-14e7f1bb195c",
   "metadata": {},
   "source": [
    "__*This circuit \"looks\" the same but it has a very different behaviour!*__"
   ]
  },
  {
   "cell_type": "markdown",
   "id": "d016d460-9392-4a3b-8a2a-858a0877bbe3",
   "metadata": {},
   "source": [
    "#### Run the circuit"
   ]
  },
  {
   "cell_type": "code",
   "execution_count": 22,
   "id": "2dc56d14-0ed5-443a-943e-44e6b8bb15e7",
   "metadata": {},
   "outputs": [
    {
     "data": {
      "text/plain": [
       "[array(0.07), array(-0.394)]"
      ]
     },
     "execution_count": 22,
     "metadata": {},
     "output_type": "execute_result"
    }
   ],
   "source": [
    "results6 = circuit2(inputs, weights)\n",
    "results6"
   ]
  },
  {
   "cell_type": "code",
   "execution_count": 23,
   "id": "5b4050db-6536-4633-9d6e-bcf0357107a8",
   "metadata": {},
   "outputs": [
    {
     "data": {
      "image/png": "[encoded data removed]",
      "text/plain": [
       "<Figure size 432x288 with 1 Axes>"
      ]
     },
     "metadata": {},
     "output_type": "display_data"
    }
   ],
   "source": [
    "### Plot the results\n",
    "plot_hist(results6, figsize=(6, 4), labels=['0', '1'], ylim=(-0.5, 0.2), \n",
    "          xlabel='qubits', ylabel='Expval', title='Measurement Outcomes')"
   ]
  },
  {
   "cell_type": "code",
   "execution_count": 24,
   "id": "fabbe5f2-954a-4075-98d4-177c371f6d6f",
   "metadata": {},
   "outputs": [
    {
     "data": {
      "text/plain": [
       "[array([ 0.624, -0.012,  0.016]), array([ 0.187, -0.169, -0.854])]"
      ]
     },
     "execution_count": 24,
     "metadata": {},
     "output_type": "execute_result"
    }
   ],
   "source": [
    "### Show gradients at each of the model parameters\n",
    "qml.gradients.param_shift(circuit2)(inputs, weights)"
   ]
  },
  {
   "cell_type": "markdown",
   "id": "d69be780-eab1-4883-82c4-ab358973ca9c",
   "metadata": {},
   "source": [
    "#### Investigate a batched version of this circuit"
   ]
  },
  {
   "cell_type": "code",
   "execution_count": 25,
   "id": "98f8c8cc-1aac-44f6-8cae-6545ff82a114",
   "metadata": {},
   "outputs": [
    {
     "data": {
      "text/plain": [
       "[array([0.09 , 0.024, 0.074, 0.104, 0.048]),\n",
       " array([-0.404, -0.452, -0.464, -0.426, -0.412])]"
      ]
     },
     "execution_count": 25,
     "metadata": {},
     "output_type": "execute_result"
    }
   ],
   "source": [
    "### Try a batched version of this circuit\n",
    "@qml.qnode(dev2)\n",
    "def circuit2_batched(inputs, weights):\n",
    "    \n",
    "    # Feature map\n",
    "    qml.RY(inputs[:, 0], wires=0)\n",
    "    qml.RY(inputs[:, 1], wires=1)\n",
    "    qml.Barrier()\n",
    "\n",
    "    # Ansatz\n",
    "    qml.RX(weights[0], wires=0)\n",
    "    qml.RY(weights[1], wires=1)\n",
    "    qml.CNOT(wires=[0, 1])\n",
    "    qml.RY(weights[2], wires=1)\n",
    "    qml.Barrier()\n",
    "\n",
    "    # Measurement\n",
    "    return [qml.expval(qml.PauliZ(m)) for m in range(2)]\n",
    "\n",
    "results7 = circuit2_batched(multi_inputs, weights)\n",
    "results7"
   ]
  },
  {
   "cell_type": "markdown",
   "id": "e343ab47-3064-46cb-9ad1-39770943b059",
   "metadata": {},
   "source": [
    "__*What happened here?*__<br>\n",
    "*In the previous case, we measured probability, which was a single outcome of multiple values.*<br>\n",
    "*This time, we measured expvals of each qubit, which is multiple outcomes of a single value.*<br>\n",
    "*Therefore the result \"seems\" to be presented differently.*<br>\n",
    "*To get an identical format of results, we will need to transpose it.*"
   ]
  },
  {
   "cell_type": "code",
   "execution_count": 26,
   "id": "66a01767-d056-400a-8397-3b98d2b8b412",
   "metadata": {},
   "outputs": [
    {
     "data": {
      "text/plain": [
       "array([[ 0.09 , -0.404],\n",
       "       [ 0.024, -0.452],\n",
       "       [ 0.074, -0.464],\n",
       "       [ 0.104, -0.426],\n",
       "       [ 0.048, -0.412]])"
      ]
     },
     "execution_count": 26,
     "metadata": {},
     "output_type": "execute_result"
    }
   ],
   "source": [
    "### Because the circuit produced two different outcomes\n",
    "#   they appeared differently and we need to transpose them\n",
    "results8 = np.transpose(np.stack(results7)).numpy()\n",
    "results8"
   ]
  },
  {
   "cell_type": "markdown",
   "id": "2068997f-64fe-4cb0-9f58-cda125473a08",
   "metadata": {},
   "source": [
    "## What's next?\n",
    "*At this point you can go to the more advanced QML models to learn how to optimise their parameters.*"
   ]
  },
  {
   "cell_type": "markdown",
   "id": "e8ea776d-ed69-45e7-b98d-94eddb993248",
   "metadata": {},
   "source": [
    "## Modifications (do not remove)\n",
    "Under the [Creative Commons CC-BY](https://creativecommons.org/licenses/by/4.0/) license, if you perform any changes to this notebook, please list them here, adding a note with your name, contact details, date and changes to the code.\n",
    "\n",
    "- [Jacob Cybulski](http://jacobcybulski.com) (2024, 1 Oct): The author of this notebook added this section to record all code changes"
   ]
  },
  {
   "cell_type": "markdown",
   "id": "f2c6c276-c691-4591-bc0b-58cc75c16445",
   "metadata": {},
   "source": [
    "## Systems in use (Linux)"
   ]
  },
  {
   "cell_type": "code",
   "execution_count": 27,
   "id": "b7dd04a7-3c57-4aab-8b4d-337597353bcf",
   "metadata": {},
   "outputs": [
    {
     "name": "stdout",
     "output_type": "stream",
     "text": [
      "pennylane                 0.42.3\n",
      "pennylane_lightning       0.42.0\n",
      "torch                     2.8.0\n",
      "torchaudio                2.8.0\n",
      "torcheval                 0.0.7\n",
      "torchmetrics              1.8.2\n",
      "torchsummary              1.5.1\n",
      "torchvision               0.23.0\n"
     ]
    }
   ],
   "source": [
    "!pip list | grep -e pennylane -e torch"
   ]
  }
 ],
 "metadata": {
  "kernelspec": {
   "display_name": "Python 3 (ipykernel)",
   "language": "python",
   "name": "python3"
  },
  "language_info": {
   "codemirror_mode": {
    "name": "ipython",
    "version": 3
   },
   "file_extension": ".py",
   "mimetype": "text/x-python",
   "name": "python",
   "nbconvert_exporter": "python",
   "pygments_lexer": "ipython3",
   "version": "3.11.13"
  },
  "widgets": {
   "application/vnd.jupyter.widget-state+json": {
    "state": {},
    "version_major": 2,
    "version_minor": 0
   }
  }
 },
 "nbformat": 4,
 "nbformat_minor": 5
}
